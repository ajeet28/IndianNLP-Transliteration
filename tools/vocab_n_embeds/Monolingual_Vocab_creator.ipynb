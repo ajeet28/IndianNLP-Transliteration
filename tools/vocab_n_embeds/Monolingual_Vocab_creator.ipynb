{
  "nbformat": 4,
  "nbformat_minor": 0,
  "metadata": {
    "colab": {
      "name": "devanagari_word_tokenizer.ipynb",
      "provenance": [],
      "collapsed_sections": [],
      "toc_visible": true
    },
    "kernelspec": {
      "name": "python3",
      "display_name": "Python 3"
    }
  },
  "cells": [
    {
      "cell_type": "markdown",
      "metadata": {
        "id": "KOamUR6oCYvh",
        "colab_type": "text"
      },
      "source": [
        "Used for ceating a cleanset of Monolingual words to used for sanitization of predictions.\n",
        "\n",
        "Data can be of text corpus or word list, and script cleans words with diffenrent language unicodes.\n",
        "Objective is distillas much as possible to purest words yest maintaining a larger word set "
      ]
    },
    {
      "cell_type": "code",
      "metadata": {
        "id": "Iko5ESHGPhSv",
        "colab_type": "code",
        "colab": {}
      },
      "source": [
        "!wget  data.zip\n"
      ],
      "execution_count": null,
      "outputs": []
    },
    {
      "cell_type": "markdown",
      "metadata": {
        "id": "zDc0m9xBmA6z",
        "colab_type": "text"
      },
      "source": [
        "## Reading Files "
      ]
    },
    {
      "cell_type": "code",
      "metadata": {
        "id": "Zk0WjivK_cto",
        "colab_type": "code",
        "colab": {}
      },
      "source": [
        "##Directly from TXT\n",
        "with open(\"/content/monolingual/monolingual.hi\") as f:\n",
        "    raw_data = f.read()"
      ],
      "execution_count": null,
      "outputs": []
    },
    {
      "cell_type": "markdown",
      "metadata": {
        "id": "djarNiwFUPUu",
        "colab_type": "text"
      },
      "source": [
        "### For AI4Bharat word frequency"
      ]
    },
    {
      "cell_type": "code",
      "metadata": {
        "id": "MVpW9nZ3UIAm",
        "colab_type": "code",
        "colab": {}
      },
      "source": [
        "with open(\"/content/hi.vocabfreq.tsv\") as f:\n",
        "    data = f.readlines()\n",
        "\n",
        "## Take only Frequency greater than 1\n",
        "import re\n",
        "word_list = []\n",
        "for d in data:\n",
        "    y = re.split(\"\\t|\\n\", d)\n",
        "    if int(y[1]) > 1:\n",
        "        word_list.append(y[0]) "
      ],
      "execution_count": null,
      "outputs": []
    },
    {
      "cell_type": "markdown",
      "metadata": {
        "id": "eJ4ACzXdnhav",
        "colab_type": "text"
      },
      "source": [
        "## Cleaning the text "
      ]
    },
    {
      "cell_type": "code",
      "metadata": {
        "id": "fZaCvBYQIFBy",
        "colab_type": "code",
        "colab": {}
      },
      "source": [
        "devanagari_scripts = {'ऄ','अ', 'आ', 'इ', 'ई', 'उ', 'ऊ','ऍ', 'ऎ', 'ए', 'ऐ',\n",
        "    'ऑ', 'ऒ', 'ओ', 'औ','ऋ','ॠ','ऌ','ॡ','ॲ', 'ॐ',\n",
        "    'क', 'ख', 'ग', 'घ', 'ङ', 'च', 'छ', 'ज', 'झ', 'ञ', 'ट', 'ठ', 'ड', 'ढ', 'ण',\n",
        "    'त', 'थ', 'द', 'ध', 'न', 'ऩ', 'प', 'फ', 'ब', 'भ', 'म', 'य', 'र', 'ऱ', 'ल',\n",
        "    'ळ', 'ऴ', 'व', 'श', 'ष', 'स', 'ह', 'क़', 'ख़', 'ग़', 'ज़', 'ड़', 'ढ़', 'फ़', 'य़',\n",
        "    '्', 'ा', 'ि', 'ी', 'ु', 'ू', 'ॅ', 'ॆ', 'े', 'ै', 'ॉ', 'ॊ', 'ो', 'ौ',\n",
        "    'ृ', 'ॄ', 'ॢ', 'ॣ', 'ँ', 'ं', 'ः', '़', '॑',  'ऽ',\n",
        "\n",
        "    chr(0x200c), # ZeroWidth-NonJoiner U+200c\n",
        "    chr(0x200d), # ZeroWidthJoiner U+200d\n",
        "}"
      ],
      "execution_count": null,
      "outputs": []
    },
    {
      "cell_type": "code",
      "metadata": {
        "id": "2Y-0DLyblyUw",
        "colab_type": "code",
        "colab": {}
      },
      "source": [
        "## Removal Set\n",
        "\n",
        "Spl_puncs = [chr(i) for i in range(0x2000,0x208F) ]\n",
        "Latin_chars = [chr(i) for i in range(0x0020,0x007F)]\n",
        "Latin_supli_exten = [chr(i) for i in range(0x00A1,0x017F)]\n",
        "dgri_num = [chr(i) for i in range(0x0966, 0x0970)]\n",
        "Other_chars = [\"\\n\",'×', \"॥\", '।', '॰']\n",
        "\n",
        "remove_chars_set = Latin_chars + Spl_puncs + Latin_supli_exten + dgri_num + Other_chars \n",
        "print(remove_chars_set)"
      ],
      "execution_count": null,
      "outputs": []
    },
    {
      "cell_type": "code",
      "metadata": {
        "id": "1Vn4HzL8pvNl",
        "colab_type": "code",
        "colab": {}
      },
      "source": [
        "clean_data = raw_data\n",
        "for c in remove_chars_set:\n",
        "    clean_data = clean_data.replace(c, \" \")\n",
        "\n",
        "word_tks = clean_data.split()"
      ],
      "execution_count": null,
      "outputs": []
    },
    {
      "cell_type": "code",
      "metadata": {
        "id": "mKIPv5RFsLra",
        "colab_type": "code",
        "colab": {}
      },
      "source": [
        "#print(word_tks) \n",
        "print(len(word_tks))"
      ],
      "execution_count": null,
      "outputs": []
    },
    {
      "cell_type": "code",
      "metadata": {
        "id": "n_s-bpY7sPEx",
        "colab_type": "code",
        "colab": {}
      },
      "source": [
        "word_dict = dict()\n",
        "for w in word_tks:\n",
        "    v = word_dict.get(w)\n",
        "    if v:\n",
        "        word_dict[w] = v+1\n",
        "    else:\n",
        "        word_dict[w] = 1\n",
        "\n"
      ],
      "execution_count": null,
      "outputs": []
    },
    {
      "cell_type": "code",
      "metadata": {
        "id": "GAuL8X3fyAmo",
        "colab_type": "code",
        "colab": {}
      },
      "source": [
        "# print(word_dict)\n",
        "print(len(word_dict))"
      ],
      "execution_count": null,
      "outputs": []
    },
    {
      "cell_type": "code",
      "metadata": {
        "id": "J4OKSqBDH76B",
        "colab_type": "code",
        "colab": {}
      },
      "source": [
        "## Check if the characters are devanagari\n",
        "new_set = set(word_dict)\n",
        "removal_word_set = set()\n",
        "for n in new_set:\n",
        "    for c in set(n):\n",
        "        if c in devanagari_scripts:\n",
        "            continue\n",
        "        else:\n",
        "            print(n)\n",
        "            removal_word_set.add(n)\n",
        "            break\n",
        "print(\"Removal set\", len(removal_word_set))"
      ],
      "execution_count": null,
      "outputs": []
    },
    {
      "cell_type": "code",
      "metadata": {
        "id": "361zysJNdQt2",
        "colab_type": "code",
        "colab": {}
      },
      "source": [
        "for k in removal_word_set:\n",
        "    word_dict.pop(k)"
      ],
      "execution_count": null,
      "outputs": []
    },
    {
      "cell_type": "markdown",
      "metadata": {
        "id": "Lr_O_wyJWKJJ",
        "colab_type": "text"
      },
      "source": [
        "## Save data"
      ]
    },
    {
      "cell_type": "code",
      "metadata": {
        "id": "PXLKGnxUyGG7",
        "colab_type": "code",
        "colab": {}
      },
      "source": [
        "import pandas as pd\n",
        "import csv\n",
        "data_items = word_dict.items()\n",
        "# data_list = list(data_items)\n",
        "df = pd.DataFrame(data_items, columns =[\"WORD\", \"FREQ\"] )\n",
        "df = df.sort_values([\"FREQ\"], ascending= False, ignore_index =True)\n",
        "\n",
        "df.to_csv('out_data.csv', index=False, quoting=csv.QUOTE_NONE)"
      ],
      "execution_count": null,
      "outputs": []
    },
    {
      "cell_type": "code",
      "metadata": {
        "id": "kjjylJXH1wLW",
        "colab_type": "code",
        "colab": {}
      },
      "source": [
        "word_list = sorted(list(word_dict))\n",
        "\n",
        "import json\n",
        "with open(\"hi_words.json\" ,\"w\", encoding = \"utf-8\") as f:\n",
        "    json.dump(data_dict, f, ensure_ascii=False, indent=4, sort_keys=True,)"
      ],
      "execution_count": null,
      "outputs": []
    }
  ]
}